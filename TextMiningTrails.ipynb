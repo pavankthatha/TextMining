{
 "cells": [
  {
   "cell_type": "code",
   "execution_count": null,
   "metadata": {
    "collapsed": false
   },
   "outputs": [],
   "source": [
    "import nltk\n",
    "#nltk.download()\n",
    "from nltk.tokenize import sent_tokenize, word_tokenize\n",
    "from nltk.corpus import stopwords\n",
    "from nltk.stem import PorterStemmer\n",
    "from nltk.corpus import state_union\n",
    "from nltk.tokenize import PunktSentenceTokenizer\n",
    "\n",
    "# Tokenizer - Word, Sentence tokenizers\n",
    "# Lexicon and Corporas\n",
    "#sample_text = \"Stock market prediction. Stock market prediction is the act of trying to determine the future value of a company stock or other financial instrument traded on an exchange. The successful prediction of a stock's future price could yield significant profit.\"\n",
    "\n",
    "sample_text = \"This is an example showing off stop word filtration.\"\n",
    "#print(sent_tokenize(sample_text))\n",
    "\n",
    "#for i in sent_tokenize(sample_text):\n",
    "#    print(i)\n",
    "\n",
    "#print ('\\n\\n\\n\\n')\n",
    "#print(word_tokenize(sample_text))\n",
    "\n",
    "#for i in word_tokenize(sample_text):\n",
    "#    print(i)\n",
    "\n",
    "words1 = word_tokenize(sample_text)     \n",
    "print (words1)\n",
    "# Stop Words\n",
    "#stop_words = set(stopwords.words(\"english\"))\n",
    "stop_words = set(stopwords.words(\"spanish\"))\n",
    "filtered_sentence = [w for w in words if not w in stop_words]\n",
    "\n",
    "#print ('\\n\\n\\n\\n')\n",
    "\n",
    "#print(filtered_sentence)\n",
    "\n",
    "\n",
    "\n"
   ]
  },
  {
   "cell_type": "code",
   "execution_count": null,
   "metadata": {
    "collapsed": false
   },
   "outputs": [],
   "source": []
  },
  {
   "cell_type": "code",
   "execution_count": null,
   "metadata": {
    "collapsed": false
   },
   "outputs": [],
   "source": [
    "# Stemming\n",
    "ps = PorterStemmer()\n",
    "example_words = [\"python\",\"pythoner\",\"pythoning\",\"pythoned\",\"pythonly\"]\n",
    "for w in example_words:\n",
    "    print(ps.stem(w))\n",
    "print ('\\n\\n\\n\\n')\n",
    "words = word_tokenize(sample_text)\n",
    "\n",
    "for w in words:\n",
    "    print(ps.stem(w))\n",
    "#print ('\\n\\n\\n\\n') \n",
    "\n",
    "'''\n",
    "from nltk.corpus import state_union\n",
    "from nltk.tokenize import PunktSentenceTokenizer\n",
    "\n",
    "train_text = state_union.raw(\"2005-GWBush.txt\")\n",
    "sample_text = state_union.raw(\"2006-GWBush.txt\")\n",
    "custom_sent_tokenizer = PunktSentenceTokenizer(train_text)\n",
    "tokenized = custom_sent_tokenizer.tokenize(sample_text)\n",
    "def process_content():\n",
    "    try:\n",
    "        for i in tokenized[:5]:\n",
    "            words = nltk.word_tokenize(i)\n",
    "            tagged = nltk.pos_tag(words)\n",
    "            print(tagged)\n",
    "\n",
    "    except Exception as e:\n",
    "        print(str(e))\n",
    "\n",
    "\n",
    "process_content()\n",
    "'''"
   ]
  }
 ],
 "metadata": {
  "kernelspec": {
   "display_name": "Python 3",
   "language": "python",
   "name": "python3"
  },
  "language_info": {
   "codemirror_mode": {
    "name": "ipython",
    "version": 3
   },
   "file_extension": ".py",
   "mimetype": "text/x-python",
   "name": "python",
   "nbconvert_exporter": "python",
   "pygments_lexer": "ipython3",
   "version": "3.6.0"
  }
 },
 "nbformat": 4,
 "nbformat_minor": 2
}
